{
  "nbformat": 4,
  "nbformat_minor": 0,
  "metadata": {
    "colab": {
      "provenance": []
    },
    "kernelspec": {
      "name": "python3",
      "display_name": "Python 3"
    },
    "language_info": {
      "name": "python"
    }
  },
  "cells": [
    {
      "cell_type": "markdown",
      "source": [
        "# I. Змінні та памʼять."
      ],
      "metadata": {
        "id": "p9wwt0LZzNvn"
      }
    },
    {
      "cell_type": "markdown",
      "source": [
        "1. Створити змінні, що посилаються на два цілих числа, що однакові за значенням, де значення належить проміжку від -5 до 256. Чи будуть ці змінні рівні тільки за значенням або ж ще будуть посилатися на один і той самий обʼєкт в памʼяті? Наведіть код та дайте текстову відповідь нижче."
      ],
      "metadata": {
        "id": "HTJrrm95xSV9"
      }
    },
    {
      "cell_type": "code",
      "execution_count": 1,
      "metadata": {
        "id": "FHSFpb1bwTFG",
        "colab": {
          "base_uri": "https://localhost:8080/"
        },
        "outputId": "cc7ba777-58a1-4250-e357-54515d8d051a"
      },
      "outputs": [
        {
          "output_type": "stream",
          "name": "stdout",
          "text": [
            "True\n",
            "True\n"
          ]
        }
      ],
      "source": [
        "num1 = 100\n",
        "num2 = 100\n",
        "\n",
        "print(num1 is num2)  # Перевірка за посиланням на об'єкт\n",
        "print(num1 == num2)  # Перевірка за значенням\n"
      ]
    },
    {
      "cell_type": "markdown",
      "source": [
        "2. Створити змінні, що посилаються на одне і те саме булеве значення. Чи будуть ці змінні рівні тільки за значенням або ж ще будуть посилатися на один і той самий обʼєкт в памʼяті? Наведіть код та дайте текстову відповідь нижче."
      ],
      "metadata": {
        "id": "N-soIzlV0Awv"
      }
    },
    {
      "cell_type": "code",
      "source": [
        "bool1 = True\n",
        "bool2 = True\n",
        "\n",
        "print(bool1 is bool2)  # Перевірка за посиланням на об'єкт\n",
        "print(bool1 == bool2)  # Перевірка за значенням\n"
      ],
      "metadata": {
        "id": "qK1-VBih0Lgz",
        "colab": {
          "base_uri": "https://localhost:8080/"
        },
        "outputId": "2ca09a15-4f7b-4eda-cf44-31c9f1c393cd"
      },
      "execution_count": 2,
      "outputs": [
        {
          "output_type": "stream",
          "name": "stdout",
          "text": [
            "True\n",
            "True\n"
          ]
        }
      ]
    },
    {
      "cell_type": "markdown",
      "source": [
        "*місце для текстової відповіді або коментарів *текст курсивом*"
      ],
      "metadata": {
        "id": "nD2SJcgaya4d"
      }
    },
    {
      "cell_type": "markdown",
      "source": [
        "3. За допомогою якої функції можна перевірити належність змінної до вказаного типу даних (напр. чи змінна посилається на значення булевого типу)?"
      ],
      "metadata": {
        "id": "ISORzt6M3vAt"
      }
    },
    {
      "cell_type": "code",
      "source": [
        "my_variable = True\n",
        "\n",
        "if isinstance(my_variable, bool):\n",
        "    print(\"Змінна посилається на значення булевого типу\")\n",
        "else:\n",
        "    print(\"Змінна не посилається на значення булевого типу\")\n"
      ],
      "metadata": {
        "id": "N7HHGm4H4CW7",
        "colab": {
          "base_uri": "https://localhost:8080/"
        },
        "outputId": "3c3177de-5f30-462e-dd83-42c001a4bbdf"
      },
      "execution_count": 3,
      "outputs": [
        {
          "output_type": "stream",
          "name": "stdout",
          "text": [
            "Змінна посилається на значення булевого типу\n"
          ]
        }
      ]
    },
    {
      "cell_type": "markdown",
      "source": [
        "# II. Цілі числа та числа з рухомою комою"
      ],
      "metadata": {
        "id": "tRxugKAxwYLw"
      }
    },
    {
      "cell_type": "markdown",
      "source": [
        "4. Створити дві змінні, що посилаються на будь-які два цілих числа та продемонструвати такі арифметичні операції: додавання, віднімання, ділення, множення, ділення без залишку, ділення по модулю, приведення до ступеню. Всі результати операцій вивести на екран."
      ],
      "metadata": {
        "id": "NLHkgd5Gybc8"
      }
    },
    {
      "cell_type": "code",
      "source": [
        "# Створення змінних, що посилаються на цілі числа\n",
        "num1 = 10\n",
        "num2 = 3\n",
        "\n",
        "# Арифметичні операції\n",
        "addition = num1 + num2\n",
        "subtraction = num1 - num2\n",
        "division = num1 / num2\n",
        "multiplication = num1 * num2\n",
        "floor_division = num1 // num2\n",
        "modulo = num1 % num2\n",
        "exponentiation = num1 ** num2\n",
        "\n",
        "# Виведення результатів операцій на екран\n",
        "print(\"Додавання:\", addition)\n",
        "print(\"Віднімання:\", subtraction)\n",
        "print(\"Ділення:\", division)\n",
        "print(\"Множення:\", multiplication)\n",
        "print(\"Ділення без залишку:\", floor_division)\n",
        "print(\"Ділення по модулю:\", modulo)\n",
        "print(\"Приведення до ступеню:\", exponentiation)\n"
      ],
      "metadata": {
        "id": "Ck6JaN4Qysoc",
        "colab": {
          "base_uri": "https://localhost:8080/"
        },
        "outputId": "e19d3173-8fa9-4acf-e7e2-7846c1dc4e0e"
      },
      "execution_count": 4,
      "outputs": [
        {
          "output_type": "stream",
          "name": "stdout",
          "text": [
            "Додавання: 13\n",
            "Віднімання: 7\n",
            "Ділення: 3.3333333333333335\n",
            "Множення: 30\n",
            "Ділення без залишку: 3\n",
            "Ділення по модулю: 1\n",
            "Приведення до ступеню: 1000\n"
          ]
        }
      ]
    },
    {
      "cell_type": "markdown",
      "source": [
        "5. Створити дві змінні, що посилаються на будь-які два числа з рухомою комою та продемонструвати такі арифметичні операції: додавання, віднімання, ділення, множення, ділення без залишку, ділення по модулю, приведення до ступеню. Всі результати операцій вивести на екран."
      ],
      "metadata": {
        "id": "tOT1crlty3cE"
      }
    },
    {
      "cell_type": "code",
      "source": [
        "# Створення змінних, що посилаються на числа з рухомою комою\n",
        "num1 = 10.5\n",
        "num2 = 3.7\n",
        "\n",
        "# Арифметичні операції\n",
        "addition = num1 + num2\n",
        "subtraction = num1 - num2\n",
        "division = num1 / num2\n",
        "multiplication = num1 * num2\n",
        "floor_division = num1 // num2  # Враховуючи, що // не повертає точні значення для чисел з рухомою комою\n",
        "modulo = num1 % num2  # Не визначено для чисел з рухомою комою\n",
        "exponentiation = num1 ** num2\n",
        "\n",
        "# Виведення результатів операцій на екран\n",
        "print(\"Додавання:\", addition)\n",
        "print(\"Віднімання:\", subtraction)\n",
        "print(\"Ділення:\", division)\n",
        "print(\"Множення:\", multiplication)\n",
        "print(\"Ділення без залишку:\", floor_division)  # Не визначено для чисел з рухомою комою\n",
        "print(\"Ділення по модулю:\", modulo)  # Не визначено для чисел з рухомою комою\n",
        "print(\"Приведення до ступеню:\", exponentiation)\n"
      ],
      "metadata": {
        "id": "m88_XOI9y-HI",
        "colab": {
          "base_uri": "https://localhost:8080/"
        },
        "outputId": "52019fbe-ef99-4bdf-85c4-09285be828e5"
      },
      "execution_count": 5,
      "outputs": [
        {
          "output_type": "stream",
          "name": "stdout",
          "text": [
            "Додавання: 14.2\n",
            "Віднімання: 6.8\n",
            "Ділення: 2.8378378378378377\n",
            "Множення: 38.85\n",
            "Ділення без залишку: 2.0\n",
            "Ділення по модулю: 3.0999999999999996\n",
            "Приведення до ступеню: 6003.443207363319\n"
          ]
        }
      ]
    },
    {
      "cell_type": "markdown",
      "source": [
        "6. Спробуйте проробити всі ті самі арифметичні операції над двома змінними, що посилаються на різні булеві значення. Прокоментуйте, чому, на Вашу думку, Ви отримали саме такі результати."
      ],
      "metadata": {
        "id": "74jIsang0Yfe"
      }
    },
    {
      "cell_type": "code",
      "source": [
        "bool1 = True\n",
        "bool2 = False\n",
        "\n",
        "addition = bool1 + bool2\n",
        "subtraction = bool1 - bool2\n",
        "#division = bool1 / bool2  # Це може викликати помилку \"ZeroDivisionError\"\n",
        "multiplication = bool1 * bool2\n",
        "#floor_division = bool1 // bool2\n",
        "modulo = bool1 % bool2  # Це може викликати помилку \"ZeroDivisionError\"\n",
        "exponentiation = bool1 ** bool2\n",
        "\n",
        "print(\"Додавання:\", addition)\n",
        "print(\"Віднімання:\", subtraction)\n",
        "print(\"Ділення:\", division)\n",
        "print(\"Множення:\", multiplication)\n",
        "print(\"Ділення без залишку:\", floor_division)\n",
        "print(\"Ділення по модулю:\", modulo)\n",
        "print(\"Приведення до ступеню:\", exponentiation)\n"
      ],
      "metadata": {
        "id": "Py3JN4gU0eTq",
        "colab": {
          "base_uri": "https://localhost:8080/",
          "height": 242
        },
        "outputId": "d7ce6f14-330e-4b83-c9ce-3b8ba70d754a"
      },
      "execution_count": 8,
      "outputs": [
        {
          "output_type": "error",
          "ename": "ZeroDivisionError",
          "evalue": "ignored",
          "traceback": [
            "\u001b[0;31m---------------------------------------------------------------------------\u001b[0m",
            "\u001b[0;31mZeroDivisionError\u001b[0m                         Traceback (most recent call last)",
            "\u001b[0;32m<ipython-input-8-6d3811a7ba89>\u001b[0m in \u001b[0;36m<cell line: 9>\u001b[0;34m()\u001b[0m\n\u001b[1;32m      7\u001b[0m \u001b[0mmultiplication\u001b[0m \u001b[0;34m=\u001b[0m \u001b[0mbool1\u001b[0m \u001b[0;34m*\u001b[0m \u001b[0mbool2\u001b[0m\u001b[0;34m\u001b[0m\u001b[0;34m\u001b[0m\u001b[0m\n\u001b[1;32m      8\u001b[0m \u001b[0;31m#floor_division = bool1 // bool2\u001b[0m\u001b[0;34m\u001b[0m\u001b[0;34m\u001b[0m\u001b[0m\n\u001b[0;32m----> 9\u001b[0;31m \u001b[0mmodulo\u001b[0m \u001b[0;34m=\u001b[0m \u001b[0mbool1\u001b[0m \u001b[0;34m%\u001b[0m \u001b[0mbool2\u001b[0m  \u001b[0;31m# Це може викликати помилку \"ZeroDivisionError\"\u001b[0m\u001b[0;34m\u001b[0m\u001b[0;34m\u001b[0m\u001b[0m\n\u001b[0m\u001b[1;32m     10\u001b[0m \u001b[0mexponentiation\u001b[0m \u001b[0;34m=\u001b[0m \u001b[0mbool1\u001b[0m \u001b[0;34m**\u001b[0m \u001b[0mbool2\u001b[0m\u001b[0;34m\u001b[0m\u001b[0;34m\u001b[0m\u001b[0m\n\u001b[1;32m     11\u001b[0m \u001b[0;34m\u001b[0m\u001b[0m\n",
            "\u001b[0;31mZeroDivisionError\u001b[0m: integer division or modulo by zero"
          ]
        }
      ]
    },
    {
      "cell_type": "markdown",
      "source": [
        "*місце для текстової відповіді або коментарів*"
      ],
      "metadata": {
        "id": "-pY4SCvo0wMG"
      }
    },
    {
      "cell_type": "markdown",
      "source": [
        "7. Використовуючи змінні з вправи 3, продемонструйте механізм явного перетворення типів, де числа з рухомою комою перетворюються на цілі числа."
      ],
      "metadata": {
        "id": "1kBClKgPzZnC"
      }
    },
    {
      "cell_type": "code",
      "source": [
        "float_number = 7.8\n",
        "integer_number = int(float_number)\n",
        "print(integer_number)  # Виведе: 7\n"
      ],
      "metadata": {
        "id": "akcVeUWYzlpb",
        "colab": {
          "base_uri": "https://localhost:8080/"
        },
        "outputId": "fb495a55-29ab-4396-af9c-114ecbfc7246"
      },
      "execution_count": 9,
      "outputs": [
        {
          "output_type": "stream",
          "name": "stdout",
          "text": [
            "7\n"
          ]
        }
      ]
    },
    {
      "cell_type": "code",
      "source": [
        "float_number = 5.6\n",
        "integer_number = int(float_number)\n",
        "print(integer_number)  # Виведе: 5\n"
      ],
      "metadata": {
        "colab": {
          "base_uri": "https://localhost:8080/"
        },
        "id": "etP9S012wdV-",
        "outputId": "0ad8bcc4-f2c0-4d70-a1ca-d8206b45970a"
      },
      "execution_count": 10,
      "outputs": [
        {
          "output_type": "stream",
          "name": "stdout",
          "text": [
            "5\n"
          ]
        }
      ]
    },
    {
      "cell_type": "markdown",
      "source": [
        "# III. Робота зі списками."
      ],
      "metadata": {
        "id": "GYVqN9uP1D4n"
      }
    },
    {
      "cell_type": "markdown",
      "source": [
        "8. Створити список двома різними за синтаксисом способами. За допомогою вбудованої функції обчисліть довжину одного з них."
      ],
      "metadata": {
        "id": "7-DeDunw2sO-"
      }
    },
    {
      "cell_type": "code",
      "source": [
        "list_1 = [1, 2, 3, 4, 5]  # Створення списку за допомогою літералу списку\n",
        "length_1 = len(list_1)  # Обчислення довжини списку\n",
        "print(\"Довжина списку 1:\", length_1)\n"
      ],
      "metadata": {
        "id": "jY07arjK21hH",
        "colab": {
          "base_uri": "https://localhost:8080/"
        },
        "outputId": "15e2e682-657a-4326-c051-fb5dd71b0ad9"
      },
      "execution_count": 11,
      "outputs": [
        {
          "output_type": "stream",
          "name": "stdout",
          "text": [
            "Довжина списку 1: 5\n"
          ]
        }
      ]
    },
    {
      "cell_type": "code",
      "source": [
        "list_2 = list(range(10))  # Створення списку за допомогою функції list() та range()\n",
        "length_2 = len(list_2)  # Обчислення довжини списку\n",
        "print(\"Довжина списку 2:\", length_2)\n"
      ],
      "metadata": {
        "colab": {
          "base_uri": "https://localhost:8080/"
        },
        "id": "9IYyDOUBw4VI",
        "outputId": "6fd17f91-aa59-4f81-8918-5235067a3b9f"
      },
      "execution_count": 12,
      "outputs": [
        {
          "output_type": "stream",
          "name": "stdout",
          "text": [
            "Довжина списку 2: 10\n"
          ]
        }
      ]
    },
    {
      "cell_type": "markdown",
      "source": [
        "9. Створіть два списка та за допомогою спеціального методу додайте другий з них в якості останнього елемента першого."
      ],
      "metadata": {
        "id": "8vmGUTjL22gI"
      }
    },
    {
      "cell_type": "code",
      "source": [
        "# Створення двох списків\n",
        "list1 = [1, 2, 3]\n",
        "list2 = [4, 5, 6]\n",
        "\n",
        "# Додавання другого списку в якості останнього елемента першого\n",
        "list1.extend([list2])  # Використовуємо extend() для додавання списку як елемента\n",
        "\n",
        "print(list1)"
      ],
      "metadata": {
        "id": "DSP6lO_m4cdV",
        "colab": {
          "base_uri": "https://localhost:8080/"
        },
        "outputId": "12c2f6b3-2098-4331-d0ef-3d46b10f4232"
      },
      "execution_count": 13,
      "outputs": [
        {
          "output_type": "stream",
          "name": "stdout",
          "text": [
            "[1, 2, 3, [4, 5, 6]]\n"
          ]
        }
      ]
    },
    {
      "cell_type": "markdown",
      "source": [
        "10. Створіть два списка та за допомогою спеціального методу \"розширте\" перший (додайте всі елементи другого в кінець першого списку). Напишіть, чим відрізняються методи в завданні 9 та 10."
      ],
      "metadata": {
        "id": "6ke6ng2j4dtq"
      }
    },
    {
      "cell_type": "code",
      "source": [
        "list1 = [1, 2, 3]\n",
        "list2 = [4, 5, 6]\n",
        "\n",
        "list1.extend(list2)  # Розширення першого списку додаванням елементів другого списку в кінець першого\n",
        "print(list1)"
      ],
      "metadata": {
        "id": "DVJVvu494q8d",
        "colab": {
          "base_uri": "https://localhost:8080/"
        },
        "outputId": "57fda3d4-30d0-481d-ccce-7457899d7022"
      },
      "execution_count": 14,
      "outputs": [
        {
          "output_type": "stream",
          "name": "stdout",
          "text": [
            "[1, 2, 3, 4, 5, 6]\n"
          ]
        }
      ]
    },
    {
      "cell_type": "markdown",
      "source": [
        "Методи extend() у завданнях 9 та 10 виконують ту ж саму операцію додавання елементів одного списку в кінець іншого списку. Різниця між ними полягає в тому, що у завданні 9 другий список list2 був укладений у інший список перед тим, як був доданий до першого списку list1. Це означає, що в list1 фактично буде один елемент - це буде самий list2. У завданні 10 ми просто використовуємо метод extend() без укладання list2 в інший список, отже, всі елементи list2 додаються окремо до list1.*місце для відповіді*"
      ],
      "metadata": {
        "id": "LvEs8TGo6CaT"
      }
    },
    {
      "cell_type": "markdown",
      "source": [
        "11. Створіть список та відсортуйте його так, щоб:\n",
        "а) його id залишився незмінним після сортування.\n",
        "б) результат сортування був збережений у нову змінну. Підказка: для одного пункту використовуйте вбудовану функцію стортування, а в іншому - спеціальний метод для роботи зі списками."
      ],
      "metadata": {
        "id": "iu_NyJeR4vOu"
      }
    },
    {
      "cell_type": "code",
      "source": [
        "# a\n",
        "# Створення початкового списку\n",
        "original_list = [4, 2, 1, 3]\n",
        "\n",
        "# Сортування за допомогою вбудованої функції sorted() для збереження id\n",
        "sorted_list_with_sorted = sorted(original_list, key=lambda x: id(x))\n",
        "\n",
        "# Виведення відсортованого списку та його id для перевірки\n",
        "print(\"Відсортований список (за допомогою sorted()):\", sorted_list_with_sorted)\n",
        "print(\"id відсортованого списку (за допомогою sorted()):\", [id(x) for x in sorted_list_with_sorted])\n",
        "\n"
      ],
      "metadata": {
        "id": "LWdiIkDj5Nxo",
        "colab": {
          "base_uri": "https://localhost:8080/"
        },
        "outputId": "b3fccfa1-8e4f-41ae-9620-632a85e9f127"
      },
      "execution_count": 15,
      "outputs": [
        {
          "output_type": "stream",
          "name": "stdout",
          "text": [
            "Відсортований список (за допомогою sorted()): [1, 2, 3, 4]\n",
            "id відсортованого списку (за допомогою sorted()): [136453540692208, 136453540692240, 136453540692272, 136453540692304]\n"
          ]
        }
      ]
    },
    {
      "cell_type": "code",
      "source": [
        "# b\n",
        "# Сортування за допомогою методу sort() для збереження в нову змінну\n",
        "sorted_list_with_sort = original_list.copy()  # Створення копії оригінального списку\n",
        "sorted_list_with_sort.sort(key=lambda x: id(x))  # Сортування за допомогою методу sort()\n",
        "\n",
        "# Виведення відсортованого списку та його id для перевірки\n",
        "print(\"Відсортований список (за допомогою sort()):\", sorted_list_with_sort)\n",
        "print(\"id відсортованого списку (за допомогою sort()):\", [id(x) for x in sorted_list_with_sort])"
      ],
      "metadata": {
        "id": "JHl9vlFa5bHt",
        "colab": {
          "base_uri": "https://localhost:8080/"
        },
        "outputId": "05e2a579-ae71-4648-cca3-0324b4d909d4"
      },
      "execution_count": 16,
      "outputs": [
        {
          "output_type": "stream",
          "name": "stdout",
          "text": [
            "Відсортований список (за допомогою sort()): [1, 2, 3, 4]\n",
            "id відсортованого списку (за допомогою sort()): [136453540692208, 136453540692240, 136453540692272, 136453540692304]\n"
          ]
        }
      ]
    },
    {
      "cell_type": "markdown",
      "source": [
        "12. Створіть список з елементами різного типу, де деякі значення елементів повторюються. За допомогою спеціального методу порахуйте кількість значень одного з елементів на Ваш вибір. Результат виведіть на екран."
      ],
      "metadata": {
        "id": "1l80guua5bia"
      }
    },
    {
      "cell_type": "code",
      "source": [
        "# Створення списку з різними типами елементів\n",
        "mixed_list = [1, 'apple', 2.5, 'banana', 1, 'apple', True, 1]\n",
        "\n",
        "# Вибираємо значення, кількість яких потрібно порахувати (наприклад, число 1)\n",
        "value_to_count = 1\n",
        "\n",
        "# Порахунок кількості значень у списку за допомогою методу count()\n",
        "count_of_value = mixed_list.count(value_to_count)\n",
        "\n",
        "# Виведення результату на екран\n",
        "print(f\"Кількість значень {value_to_count} у списку: {count_of_value}\")\n"
      ],
      "metadata": {
        "id": "tWFdczmv5z5Q",
        "colab": {
          "base_uri": "https://localhost:8080/"
        },
        "outputId": "bbcf3fd7-9e06-4241-8ffd-23048e99d437"
      },
      "execution_count": 17,
      "outputs": [
        {
          "output_type": "stream",
          "name": "stdout",
          "text": [
            "Кількість значень 1 у списку: 4\n"
          ]
        }
      ]
    },
    {
      "cell_type": "markdown",
      "source": [
        "# IV. Робота з кортежами."
      ],
      "metadata": {
        "id": "pCjR1dJb1Qbi"
      }
    },
    {
      "cell_type": "markdown",
      "source": [
        "13. Створити список з один типом елементів та на основі цього списку створити кортеж."
      ],
      "metadata": {
        "id": "te3MAUYq28TV"
      }
    },
    {
      "cell_type": "code",
      "source": [
        "# Створення списку з одним типом елементів (у цьому випадку, цілі числа)\n",
        "my_list = [1, 2, 3, 4, 5]\n",
        "\n",
        "# Створення кортежу на основі списку\n",
        "my_tuple = tuple(my_list)\n",
        "\n",
        "# Виведення списку та кортежу для перевірки\n",
        "print(\"Список:\", my_list)\n",
        "print(\"Кортеж:\", my_tuple)\n"
      ],
      "metadata": {
        "id": "uq3O114R2_H1",
        "colab": {
          "base_uri": "https://localhost:8080/"
        },
        "outputId": "3ec3048a-accb-4cff-abf5-3f8a5f926baf"
      },
      "execution_count": 18,
      "outputs": [
        {
          "output_type": "stream",
          "name": "stdout",
          "text": [
            "Список: [1, 2, 3, 4, 5]\n",
            "Кортеж: (1, 2, 3, 4, 5)\n"
          ]
        }
      ]
    },
    {
      "cell_type": "markdown",
      "source": [
        "14. Створити кортеж з один елементом."
      ],
      "metadata": {
        "id": "fAZCxAX06R_k"
      }
    },
    {
      "cell_type": "code",
      "source": [
        "my_single_element_tuple = (5,)  # Кортеж з одним елементом\n",
        "print(my_single_element_tuple)"
      ],
      "metadata": {
        "id": "-QWjudqk6kHd",
        "colab": {
          "base_uri": "https://localhost:8080/"
        },
        "outputId": "df6a18ee-13c8-4512-a55e-3c08bdde6df9"
      },
      "execution_count": 19,
      "outputs": [
        {
          "output_type": "stream",
          "name": "stdout",
          "text": [
            "(5,)\n"
          ]
        }
      ]
    },
    {
      "cell_type": "markdown",
      "source": [
        "15. Створити кортеж. Вивести на екран всі доступні його атрибути та методи."
      ],
      "metadata": {
        "id": "VfTSJwQF7djZ"
      }
    },
    {
      "cell_type": "code",
      "source": [
        "my_tuple = (1, 2, 3)\n",
        "\n",
        "# Отримання всіх доступних атрибутів та методів кортежу\n",
        "tuple_attributes = dir(my_tuple)\n",
        "\n",
        "# Виведення на екран\n",
        "print(tuple_attributes)\n"
      ],
      "metadata": {
        "id": "x9elcFfr774r",
        "colab": {
          "base_uri": "https://localhost:8080/"
        },
        "outputId": "ee3411a4-8b39-4328-afa4-f5d0551e7b03"
      },
      "execution_count": 20,
      "outputs": [
        {
          "output_type": "stream",
          "name": "stdout",
          "text": [
            "['__add__', '__class__', '__class_getitem__', '__contains__', '__delattr__', '__dir__', '__doc__', '__eq__', '__format__', '__ge__', '__getattribute__', '__getitem__', '__getnewargs__', '__gt__', '__hash__', '__init__', '__init_subclass__', '__iter__', '__le__', '__len__', '__lt__', '__mul__', '__ne__', '__new__', '__reduce__', '__reduce_ex__', '__repr__', '__rmul__', '__setattr__', '__sizeof__', '__str__', '__subclasshook__', 'count', 'index']\n"
          ]
        }
      ]
    },
    {
      "cell_type": "markdown",
      "source": [
        "16. Порівняйте список та кортеж. Назвіть схожості та відмінності, випадки використання."
      ],
      "metadata": {
        "id": "8LCtYcmI6w1M"
      }
    },
    {
      "cell_type": "markdown",
      "source": [
        "Список (`list`) та кортеж (`tuple`) у Python є двома різними типами структур даних зі своїми унікальними характеристиками. Ось порівняння їхніх схожостей та відмінностей:\n",
        "\n",
        "### Схожості:\n",
        "\n",
        "1. **Збереження даних:** Як список, так і кортеж можуть зберігати кілька значень різних типів у впорядкованій послідовності.\n",
        "  \n",
        "2. **Індексація та зрізи:** Обидва підтримують індексацію та зрізи. Їх елементи можна отримати за допомогою індексів, а також використовувати зрізи для отримання підмножини елементів.\n",
        "\n",
        "3. **Не змінюються (immutable) та змінюються (mutable) версії:** Існують не змінюються (`immutable`) кортежі, які не можна змінити після створення, і змінюються (`mutable`) списки, які можна змінювати після створення.\n",
        "\n",
        "### Відмінності:\n",
        "\n",
        "1. **Мутабельність (Mutability):** Списки є мутабельними, що означає, що їх можна змінювати (додавати, видаляти, змінювати елементи), тоді як кортежі є не змінюються, тобто їхні елементи не можна змінити після створення кортежу.\n",
        "\n",
        "2. **Синтаксис:** Кортежі створюються за допомогою круглих дужок `()` або функції `tuple()`, тоді як списки створюються за допомогою квадратних дужок `[]` або функції `list()`.\n",
        "\n",
        "3. **Швидкість:** У загальному випадку кортежі є трохи швидшими за списки, оскільки кортежі не підтримують деякі операції, такі як додавання або видалення елементів, які притаманні спискам.\n",
        "\n",
        "### Випадки використання:\n",
        "\n",
        "- **Списки (list):** Використовуються там, де потрібна змінюючася послідовність. Наприклад, коли потрібно додавати, видаляти або змінювати елементи.\n",
        "\n",
        "- **Кортежі (tuple):** Використовуються для створення незмінних колекцій, які не повинні змінюватися. Їх також використовують для передачі незмінних даних, забезпечуючи безпеку даних, а також для використання у визначеннях ключів словників (оскільки ключі словників мають бути хешованими, а кортежі є хешованими у порівнянні зі змінними колекціями, такими як списки).**місце для відповіді*"
      ],
      "metadata": {
        "id": "t9MwoWor7UVB"
      }
    },
    {
      "cell_type": "markdown",
      "source": [
        "# V. Індексування та слайсинг."
      ],
      "metadata": {
        "id": "QTP622J81iHk"
      }
    },
    {
      "cell_type": "markdown",
      "source": [
        "17. Створіть список з 6ти елементів. Отримайте третій елемент за допомогою двох різних індексів."
      ],
      "metadata": {
        "id": "4dmeIU-N9gHy"
      }
    },
    {
      "cell_type": "code",
      "source": [
        "my_list = [10, 20, 30, 40, 50, 60]\n",
        "\n",
        "# Отримання третього елемента списку за допомогою двох різних індексів\n",
        "third_element_index_1 = my_list[2]  # Використовуємо індекс 2\n",
        "third_element_index_2 = my_list[-4]  # Використовуємо від'ємний індекс -4\n",
        "\n",
        "print(\"Третій елемент за допомогою індексу 2:\", third_element_index_1)\n",
        "print(\"Третій елемент за допомогою від'ємного індексу -4:\", third_element_index_2)\n"
      ],
      "metadata": {
        "id": "47LTFhfH9pRe",
        "colab": {
          "base_uri": "https://localhost:8080/"
        },
        "outputId": "71da97be-fb2c-4102-fc73-d8141e3c973c"
      },
      "execution_count": 21,
      "outputs": [
        {
          "output_type": "stream",
          "name": "stdout",
          "text": [
            "Третій елемент за допомогою індексу 2: 30\n",
            "Третій елемент за допомогою від'ємного індексу -4: 30\n"
          ]
        }
      ]
    },
    {
      "cell_type": "markdown",
      "source": [
        "18. Створіть список, де елементами цього списку також є списки. Отримай перший елемент з останнього рядка та виведи значення на екран."
      ],
      "metadata": {
        "id": "JC3BkD-67_--"
      }
    },
    {
      "cell_type": "code",
      "source": [
        "# Створення списку, де елементами є інші списки\n",
        "nested_list = [\n",
        "    [1, 2, 3],\n",
        "    [4, 5, 6],\n",
        "    [7, 8, 9]\n",
        "]\n",
        "\n",
        "# Отримання першого елементу з останнього рядка\n",
        "last_row = nested_list[-1]  # Отримуємо останній рядок (список)\n",
        "first_element_last_row = last_row[0]  # Отримуємо перший елемент з останнього рядка\n",
        "\n",
        "# Виведення значення на екран\n",
        "print(\"Перший елемент з останнього рядка:\", first_element_last_row)\n"
      ],
      "metadata": {
        "id": "ctR2jdq68cB0",
        "colab": {
          "base_uri": "https://localhost:8080/"
        },
        "outputId": "88271ad2-dda5-44e1-d2e4-f94ef8bc1532"
      },
      "execution_count": 22,
      "outputs": [
        {
          "output_type": "stream",
          "name": "stdout",
          "text": [
            "Перший елемент з останнього рядка: 7\n"
          ]
        }
      ]
    },
    {
      "cell_type": "markdown",
      "source": [
        "19. Створіть кортеж, що містить 8  елементів цілочисленного типу. Виведіть на екран три найменших значення."
      ],
      "metadata": {
        "id": "A-hPrvOS8cjx"
      }
    },
    {
      "cell_type": "code",
      "source": [
        "# Створення кортежу з восьми цілих чисел\n",
        "my_tuple = (5, 3, 8, 2, 9, 1, 6, 4)\n",
        "\n",
        "# Відсортуємо кортеж та виведемо три найменших значення\n",
        "sorted_tuple = sorted(my_tuple)  # Сортуємо кортеж\n",
        "three_smallest = sorted_tuple[:3]  # Беремо перші три значення\n",
        "\n",
        "# Виведення три найменших значень на екран\n",
        "print(\"Три найменших значення:\", three_smallest)\n"
      ],
      "metadata": {
        "id": "GPxJKNUm8xHU",
        "colab": {
          "base_uri": "https://localhost:8080/"
        },
        "outputId": "58a7ee96-81ec-424a-c127-dc4388a9bbed"
      },
      "execution_count": 23,
      "outputs": [
        {
          "output_type": "stream",
          "name": "stdout",
          "text": [
            "Три найменших значення: [1, 2, 3]\n"
          ]
        }
      ]
    },
    {
      "cell_type": "markdown",
      "source": [
        "20. Створіть список з десяти елементів різного типу. Отримайте всі елементи, окрім двох перших та двох останніх та збережіть їх в новій змінній."
      ],
      "metadata": {
        "id": "JA47PKTv8zFK"
      }
    },
    {
      "cell_type": "code",
      "source": [
        "# Створення списку з десятьма елементами різного типу\n",
        "my_list = [1, 'apple', 3.14, True, (5, 6), 'banana', False, 8, [9, 10], 'orange']\n",
        "\n",
        "# Отримання всіх елементів, окрім двох перших та двох останніх\n",
        "new_list = my_list[2:-2]\n",
        "\n",
        "# Виведення нового списку на екран\n",
        "print(\"Елементи, окрім двох перших та двох останніх:\", new_list)"
      ],
      "metadata": {
        "id": "g-GAQS_kAlmr",
        "colab": {
          "base_uri": "https://localhost:8080/"
        },
        "outputId": "a742eac9-9f00-4f30-e2cb-277b5c36fd7e"
      },
      "execution_count": 24,
      "outputs": [
        {
          "output_type": "stream",
          "name": "stdout",
          "text": [
            "Елементи, окрім двох перших та двох останніх: [3.14, True, (5, 6), 'banana', False, 8]\n"
          ]
        }
      ]
    },
    {
      "cell_type": "markdown",
      "source": [
        "21. Створіть кортеж з 11ти елементів чисел з рухомою комою та отримайте кожен парний за індексом елемент в зворотньому порядку. Наприклад, маючи (1.2, 2.3, 3.3, 4.3, 5.3, 6.3, 7.3, 8.3, 9.3, 0.3), отримати (0.3, 8.3, 6.3, 4.3, 2.3). Результат збережіть в нову змінну та виведіть на екран."
      ],
      "metadata": {
        "id": "m0xrwFijAmDD"
      }
    },
    {
      "cell_type": "code",
      "source": [
        "# Створення кортежу з 11 елементів чисел з рухомою комою\n",
        "my_tuple = (1.2, 2.3, 3.3, 4.3, 5.3, 6.3, 7.3, 8.3, 9.3, 0.3, 11.3)\n",
        "\n",
        "# Отримання парних за індексом елементів в зворотньому порядку\n",
        "result_tuple = my_tuple[-2::-2]  # Використовуємо зріз та крок -2\n",
        "\n",
        "# Виведення результату на екран\n",
        "print(\"Парні за індексом елементи в зворотньому порядку:\", result_tuple)"
      ],
      "metadata": {
        "id": "BQwYLEXdBVBo",
        "colab": {
          "base_uri": "https://localhost:8080/"
        },
        "outputId": "7294f972-5d58-4361-f112-6d78bd54c3e9"
      },
      "execution_count": 25,
      "outputs": [
        {
          "output_type": "stream",
          "name": "stdout",
          "text": [
            "Парні за індексом елементи в зворотньому порядку: (0.3, 8.3, 6.3, 4.3, 2.3)\n"
          ]
        }
      ]
    },
    {
      "cell_type": "markdown",
      "source": [
        "# Вітаю! Ви велика(ий) молодець, що впоралась(вся). Похваліть себе та побалуйте чимось приємним. Я Вами пишаюся."
      ],
      "metadata": {
        "id": "F0ArvieRBZsG"
      }
    }
  ]
}