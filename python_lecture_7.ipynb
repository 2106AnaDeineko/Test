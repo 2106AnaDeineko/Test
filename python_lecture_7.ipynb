{
  "nbformat": 4,
  "nbformat_minor": 0,
  "metadata": {
    "colab": {
      "provenance": []
    },
    "kernelspec": {
      "name": "python3",
      "display_name": "Python 3"
    },
    "language_info": {
      "name": "python"
    }
  },
  "cells": [
    {
      "cell_type": "code",
      "execution_count": 10,
      "metadata": {
        "id": "Q-cdHRVhJ6ki"
      },
      "outputs": [],
      "source": [
        "def func_name(pos_arg1, pos_arg2, kwarg1=True, kwarg_2=49):\n",
        "    #function body\n",
        "    if pos_arg1 < pos_arg2:\n",
        "        print('MAX', pos_arg2)\n",
        "    return kwarg1"
      ]
    },
    {
      "cell_type": "code",
      "source": [
        "result = func_name(34, 45)\n",
        "print(result)"
      ],
      "metadata": {
        "colab": {
          "base_uri": "https://localhost:8080/"
        },
        "id": "6iYTLR_LVdnk",
        "outputId": "ace2f380-c8f8-43f6-e3ac-82f9ba9c2247"
      },
      "execution_count": 11,
      "outputs": [
        {
          "output_type": "stream",
          "name": "stdout",
          "text": [
            "MAX 45\n",
            "True\n"
          ]
        }
      ]
    },
    {
      "cell_type": "code",
      "source": [
        "def maximum(num1, num2):\n",
        "    if isinstance(num1, int) and isinstance(num2, int):\n",
        "        if num1 > num2:\n",
        "            return num1\n",
        "        return num2\n",
        "    print('Sorry, enter integers')\n",
        "    return None\n"
      ],
      "metadata": {
        "id": "BikqI2-LWQLb"
      },
      "execution_count": 20,
      "outputs": []
    },
    {
      "cell_type": "code",
      "source": [
        "maximum(3, 67)"
      ],
      "metadata": {
        "colab": {
          "base_uri": "https://localhost:8080/"
        },
        "id": "w2H_aDKyWtFx",
        "outputId": "7e2f8cbe-3148-47d3-d97f-20dbd963feaf"
      },
      "execution_count": 13,
      "outputs": [
        {
          "output_type": "execute_result",
          "data": {
            "text/plain": [
              "67"
            ]
          },
          "metadata": {},
          "execution_count": 13
        }
      ]
    },
    {
      "cell_type": "code",
      "source": [
        "maximum(99, 0)"
      ],
      "metadata": {
        "colab": {
          "base_uri": "https://localhost:8080/"
        },
        "id": "7vKBGsF-WyZI",
        "outputId": "33925ae4-dbd9-4f8f-ffae-38f14d274ab8"
      },
      "execution_count": 14,
      "outputs": [
        {
          "output_type": "execute_result",
          "data": {
            "text/plain": [
              "99"
            ]
          },
          "metadata": {},
          "execution_count": 14
        }
      ]
    },
    {
      "cell_type": "code",
      "source": [
        "maximum({6, 7, 8}, {54, 67, 1})"
      ],
      "metadata": {
        "colab": {
          "base_uri": "https://localhost:8080/"
        },
        "id": "rAaHd_atW-qZ",
        "outputId": "1d59a5e5-5599-43d0-eec5-f0d588a618d2"
      },
      "execution_count": 15,
      "outputs": [
        {
          "output_type": "execute_result",
          "data": {
            "text/plain": [
              "{1, 54, 67}"
            ]
          },
          "metadata": {},
          "execution_count": 15
        }
      ]
    },
    {
      "cell_type": "code",
      "source": [
        "dir(['{1, 2}',])"
      ],
      "metadata": {
        "colab": {
          "base_uri": "https://localhost:8080/"
        },
        "id": "ME-D1NU4XGb8",
        "outputId": "e64321ab-d4c4-4931-9f71-da88aca9efe3"
      },
      "execution_count": 18,
      "outputs": [
        {
          "output_type": "execute_result",
          "data": {
            "text/plain": [
              "['__add__',\n",
              " '__class__',\n",
              " '__class_getitem__',\n",
              " '__contains__',\n",
              " '__delattr__',\n",
              " '__delitem__',\n",
              " '__dir__',\n",
              " '__doc__',\n",
              " '__eq__',\n",
              " '__format__',\n",
              " '__ge__',\n",
              " '__getattribute__',\n",
              " '__getitem__',\n",
              " '__gt__',\n",
              " '__hash__',\n",
              " '__iadd__',\n",
              " '__imul__',\n",
              " '__init__',\n",
              " '__init_subclass__',\n",
              " '__iter__',\n",
              " '__le__',\n",
              " '__len__',\n",
              " '__lt__',\n",
              " '__mul__',\n",
              " '__ne__',\n",
              " '__new__',\n",
              " '__reduce__',\n",
              " '__reduce_ex__',\n",
              " '__repr__',\n",
              " '__reversed__',\n",
              " '__rmul__',\n",
              " '__setattr__',\n",
              " '__setitem__',\n",
              " '__sizeof__',\n",
              " '__str__',\n",
              " '__subclasshook__',\n",
              " 'append',\n",
              " 'clear',\n",
              " 'copy',\n",
              " 'count',\n",
              " 'extend',\n",
              " 'index',\n",
              " 'insert',\n",
              " 'pop',\n",
              " 'remove',\n",
              " 'reverse',\n",
              " 'sort']"
            ]
          },
          "metadata": {},
          "execution_count": 18
        }
      ]
    },
    {
      "cell_type": "code",
      "source": [
        "maximum(45, '88')"
      ],
      "metadata": {
        "colab": {
          "base_uri": "https://localhost:8080/"
        },
        "id": "25FR6uT6XimR",
        "outputId": "359240b3-3126-4f07-b177-a47e124de824"
      },
      "execution_count": 21,
      "outputs": [
        {
          "output_type": "stream",
          "name": "stdout",
          "text": [
            "Sorry, enter integers\n"
          ]
        }
      ]
    },
    {
      "cell_type": "code",
      "source": [
        "def example(symbol):\n",
        "    result = None\n",
        "    if symbol == 1:\n",
        "        result = 'ONE'\n",
        "    elif symbol == 2:\n",
        "        result = 'TWO'\n",
        "    sum_result = 5 + 6\n",
        "    return result, sum_result"
      ],
      "metadata": {
        "id": "JzEw46HSYWGQ"
      },
      "execution_count": 30,
      "outputs": []
    },
    {
      "cell_type": "code",
      "source": [
        "a, b = (1, 2)"
      ],
      "metadata": {
        "id": "Cm42kgcBZhxA"
      },
      "execution_count": null,
      "outputs": []
    },
    {
      "cell_type": "code",
      "source": [
        "result1, result2 = example(56)\n",
        "result2"
      ],
      "metadata": {
        "colab": {
          "base_uri": "https://localhost:8080/"
        },
        "id": "bBAmcv9AaP-Q",
        "outputId": "58571a8b-0903-4378-8dff-0c05ce708300"
      },
      "execution_count": 33,
      "outputs": [
        {
          "output_type": "execute_result",
          "data": {
            "text/plain": [
              "11"
            ]
          },
          "metadata": {},
          "execution_count": 33
        }
      ]
    },
    {
      "cell_type": "code",
      "source": [
        "result = example(2)\n",
        "type(result)"
      ],
      "metadata": {
        "colab": {
          "base_uri": "https://localhost:8080/"
        },
        "id": "wpDDG3E-Y6I2",
        "outputId": "fdafe406-2ceb-45ca-add5-c67490e5237b"
      },
      "execution_count": 26,
      "outputs": [
        {
          "output_type": "execute_result",
          "data": {
            "text/plain": [
              "list"
            ]
          },
          "metadata": {},
          "execution_count": 26
        }
      ]
    },
    {
      "cell_type": "code",
      "source": [
        "result[0]"
      ],
      "metadata": {
        "colab": {
          "base_uri": "https://localhost:8080/",
          "height": 36
        },
        "id": "v58o5lKZZSHe",
        "outputId": "fcbe60db-b367-4951-f34e-dd1ae6ddf05b"
      },
      "execution_count": 27,
      "outputs": [
        {
          "output_type": "execute_result",
          "data": {
            "text/plain": [
              "'TWO'"
            ],
            "application/vnd.google.colaboratory.intrinsic+json": {
              "type": "string"
            }
          },
          "metadata": {},
          "execution_count": 27
        }
      ]
    },
    {
      "cell_type": "code",
      "source": [
        "result[1]"
      ],
      "metadata": {
        "colab": {
          "base_uri": "https://localhost:8080/"
        },
        "id": "7KdxNu8YZjDm",
        "outputId": "7cd81826-6d5d-4bd5-909f-1a20ee7ec976"
      },
      "execution_count": 29,
      "outputs": [
        {
          "output_type": "execute_result",
          "data": {
            "text/plain": [
              "11"
            ]
          },
          "metadata": {},
          "execution_count": 29
        }
      ]
    },
    {
      "cell_type": "code",
      "source": [
        "def example(symbol):\n",
        "    result = None\n",
        "    if symbol == 1:\n",
        "        result = 'ONE'\n",
        "    elif symbol == 2:\n",
        "        result = 'TWO'\n",
        "    sum_result = 5 + 6\n",
        "    return result, sum_result\n",
        "\n",
        "result = 1000\n",
        "print(result)\n",
        "result = example(result)[0]\n",
        "print(result)"
      ],
      "metadata": {
        "colab": {
          "base_uri": "https://localhost:8080/"
        },
        "id": "2Bge0rfEagSX",
        "outputId": "9ce71dbd-614c-45f3-bcdd-83f546bfb4d6"
      },
      "execution_count": 36,
      "outputs": [
        {
          "output_type": "stream",
          "name": "stdout",
          "text": [
            "1000\n",
            "None\n"
          ]
        }
      ]
    },
    {
      "cell_type": "code",
      "source": [
        "my_list = []\n",
        "def ex2(my_list):\n",
        "    my_list.append(3)\n",
        "    return my_list\n"
      ],
      "metadata": {
        "id": "GQ1_yt12ceqZ"
      },
      "execution_count": 37,
      "outputs": []
    },
    {
      "cell_type": "code",
      "source": [],
      "metadata": {
        "id": "rn6xRDq1dPv7"
      },
      "execution_count": null,
      "outputs": []
    },
    {
      "cell_type": "code",
      "source": [
        "print(my_list)"
      ],
      "metadata": {
        "colab": {
          "base_uri": "https://localhost:8080/"
        },
        "id": "nhxezIDHcr-9",
        "outputId": "d7983027-d728-4aff-f23e-1da0c07e5163"
      },
      "execution_count": 38,
      "outputs": [
        {
          "output_type": "stream",
          "name": "stdout",
          "text": [
            "[]\n"
          ]
        }
      ]
    },
    {
      "cell_type": "code",
      "source": [
        "ex2(my_list)"
      ],
      "metadata": {
        "colab": {
          "base_uri": "https://localhost:8080/"
        },
        "id": "GF2_5l3dc0pF",
        "outputId": "83949ab7-1f3a-42a8-bd8a-d9c86c5a3f7c"
      },
      "execution_count": 39,
      "outputs": [
        {
          "output_type": "execute_result",
          "data": {
            "text/plain": [
              "[3]"
            ]
          },
          "metadata": {},
          "execution_count": 39
        }
      ]
    },
    {
      "cell_type": "code",
      "source": [
        "my_list"
      ],
      "metadata": {
        "colab": {
          "base_uri": "https://localhost:8080/"
        },
        "id": "l6rMKAoUc5ok",
        "outputId": "32e515b9-4fb0-41b1-acaf-29264cb4e6a7"
      },
      "execution_count": 40,
      "outputs": [
        {
          "output_type": "execute_result",
          "data": {
            "text/plain": [
              "[3]"
            ]
          },
          "metadata": {},
          "execution_count": 40
        }
      ]
    },
    {
      "cell_type": "code",
      "source": [
        "def ex2(my_list):\n",
        "    print('Hi from function', id(my_list))  # my_list = []\n",
        "    my_list.append(3)  # my_list = [3]\n",
        "    return my_list  # [3]\n",
        "\n",
        "my_list_1 = []\n",
        "print(id(my_list_1))\n",
        "ex2(my_list_1)\n",
        "print(id(my_list_1))\n"
      ],
      "metadata": {
        "colab": {
          "base_uri": "https://localhost:8080/"
        },
        "id": "UNssmnz9dRRI",
        "outputId": "428c24b1-c7a8-4ca2-81cf-50e9fad62002"
      },
      "execution_count": 43,
      "outputs": [
        {
          "output_type": "stream",
          "name": "stdout",
          "text": [
            "139447151579648\n",
            "Hi from function 139447151579648\n",
            "139447151579648\n"
          ]
        }
      ]
    },
    {
      "cell_type": "code",
      "source": [
        "my_list_1"
      ],
      "metadata": {
        "colab": {
          "base_uri": "https://localhost:8080/"
        },
        "id": "jfX9QMd0d047",
        "outputId": "ecc2bf5a-0f9f-4894-939b-c57a91f390f5"
      },
      "execution_count": 42,
      "outputs": [
        {
          "output_type": "execute_result",
          "data": {
            "text/plain": [
              "[3]"
            ]
          },
          "metadata": {},
          "execution_count": 42
        }
      ]
    },
    {
      "cell_type": "code",
      "source": [
        "def insert_n(num):\n",
        "    list_result = []\n",
        "    for i in range(num):\n",
        "        num_to_append = i\n",
        "        if i % 2 == 0:\n",
        "            num_to_append = i**2\n",
        "        elif i % 3 == 0:\n",
        "            num_to_append = i**3\n",
        "        list_result.append(num_to_append)\n",
        "    return list_result"
      ],
      "metadata": {
        "id": "uyMBvj6qd5V7"
      },
      "execution_count": 44,
      "outputs": []
    },
    {
      "cell_type": "code",
      "source": [
        "returned_list = insert_n(10)\n",
        "print(returned_list)"
      ],
      "metadata": {
        "colab": {
          "base_uri": "https://localhost:8080/"
        },
        "id": "kFR_1sTGf02r",
        "outputId": "bb5d7f1c-f7ac-4474-bef9-ef6146bd60b6"
      },
      "execution_count": 45,
      "outputs": [
        {
          "output_type": "stream",
          "name": "stdout",
          "text": [
            "[0, 1, 4, 27, 16, 5, 36, 7, 64, 729]\n"
          ]
        }
      ]
    }
  ]
}